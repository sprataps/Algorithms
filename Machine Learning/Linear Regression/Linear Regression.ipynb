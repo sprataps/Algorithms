{
 "cells": [
  {
   "cell_type": "code",
   "execution_count": 176,
   "metadata": {
    "collapsed": true
   },
   "outputs": [],
   "source": [
    "import pandas as pd\n",
    "import numpy as np\n",
    "import matplotlib.pyplot as plt\n",
    "from sklearn.metrics import explained_variance_score,mean_squared_error,r2_score\n",
    "import math\n",
    "%matplotlib inline"
   ]
  },
  {
   "cell_type": "code",
   "execution_count": 2,
   "metadata": {
    "collapsed": true
   },
   "outputs": [],
   "source": [
    "data=pd.read_csv(\"headbrain.csv\")"
   ]
  },
  {
   "cell_type": "code",
   "execution_count": 3,
   "metadata": {},
   "outputs": [
    {
     "data": {
      "text/html": [
       "<div>\n",
       "<style>\n",
       "    .dataframe thead tr:only-child th {\n",
       "        text-align: right;\n",
       "    }\n",
       "\n",
       "    .dataframe thead th {\n",
       "        text-align: left;\n",
       "    }\n",
       "\n",
       "    .dataframe tbody tr th {\n",
       "        vertical-align: top;\n",
       "    }\n",
       "</style>\n",
       "<table border=\"1\" class=\"dataframe\">\n",
       "  <thead>\n",
       "    <tr style=\"text-align: right;\">\n",
       "      <th></th>\n",
       "      <th>Gender</th>\n",
       "      <th>Age Range</th>\n",
       "      <th>Head Size(cm^3)</th>\n",
       "      <th>Brain Weight(grams)</th>\n",
       "    </tr>\n",
       "  </thead>\n",
       "  <tbody>\n",
       "    <tr>\n",
       "      <th>0</th>\n",
       "      <td>1</td>\n",
       "      <td>1</td>\n",
       "      <td>4512</td>\n",
       "      <td>1530</td>\n",
       "    </tr>\n",
       "    <tr>\n",
       "      <th>1</th>\n",
       "      <td>1</td>\n",
       "      <td>1</td>\n",
       "      <td>3738</td>\n",
       "      <td>1297</td>\n",
       "    </tr>\n",
       "    <tr>\n",
       "      <th>2</th>\n",
       "      <td>1</td>\n",
       "      <td>1</td>\n",
       "      <td>4261</td>\n",
       "      <td>1335</td>\n",
       "    </tr>\n",
       "    <tr>\n",
       "      <th>3</th>\n",
       "      <td>1</td>\n",
       "      <td>1</td>\n",
       "      <td>3777</td>\n",
       "      <td>1282</td>\n",
       "    </tr>\n",
       "    <tr>\n",
       "      <th>4</th>\n",
       "      <td>1</td>\n",
       "      <td>1</td>\n",
       "      <td>4177</td>\n",
       "      <td>1590</td>\n",
       "    </tr>\n",
       "  </tbody>\n",
       "</table>\n",
       "</div>"
      ],
      "text/plain": [
       "   Gender  Age Range  Head Size(cm^3)  Brain Weight(grams)\n",
       "0       1          1             4512                 1530\n",
       "1       1          1             3738                 1297\n",
       "2       1          1             4261                 1335\n",
       "3       1          1             3777                 1282\n",
       "4       1          1             4177                 1590"
      ]
     },
     "execution_count": 3,
     "metadata": {},
     "output_type": "execute_result"
    }
   ],
   "source": [
    "data.head()"
   ]
  },
  {
   "cell_type": "code",
   "execution_count": 4,
   "metadata": {},
   "outputs": [
    {
     "data": {
      "text/plain": [
       "(237, 4)"
      ]
     },
     "execution_count": 4,
     "metadata": {},
     "output_type": "execute_result"
    }
   ],
   "source": [
    "data.shape"
   ]
  },
  {
   "cell_type": "markdown",
   "metadata": {},
   "source": [
    "# Simple Linear Regression (using one feature) to predict brain weight from brain size."
   ]
  },
  {
   "cell_type": "code",
   "execution_count": 6,
   "metadata": {},
   "outputs": [],
   "source": [
    "x=data['Head Size(cm^3)'].values\n",
    "y=data['Brain Weight(grams)'].values"
   ]
  },
  {
   "cell_type": "markdown",
   "metadata": {},
   "source": [
    "# Model Explanation\n",
    "\n",
    "Y=b0+b1(x) <br>\n",
    "where b1=( ∑(xi-xm)(yi-ym) )/ ∑(xi-xm)^2 <br>\n",
    "b0= ym - b1xm  <br>\n",
    "\n",
    "xm-> mean(x) <br>\n",
    "ym-> mean(y) <br>\n"
   ]
  },
  {
   "cell_type": "code",
   "execution_count": 38,
   "metadata": {
    "collapsed": true
   },
   "outputs": [],
   "source": [
    "def calculateCoeff(x,y):\n",
    "    xm=x.mean()\n",
    "    ym=y.mean()\n",
    "    numerator=0\n",
    "    denominator=0\n",
    "    print(\"Mean of X value: \",xm,\"\\t Mean of Y values: \",ym)\n",
    "    for i in range(x.shape[0]):\n",
    "        numerator+= (x[i]-xm)*(y[i]-ym)\n",
    "        denominator+= ((x[i] - xm) ** 2)\n",
    "    \n",
    "    b1=numerator/denominator\n",
    "    b0=ym- b1 * (xm)  \n",
    "    print(\"Coefficient b0: \",b0,\"\\t Coefficient b1: \",b1)\n",
    "    return [b0,b1]"
   ]
  },
  {
   "cell_type": "code",
   "execution_count": 52,
   "metadata": {},
   "outputs": [],
   "source": [
    "def plotRegression(x,y,coeff):\n",
    "    plt.scatter(x,y,color='b')\n",
    "    y_Pred=coeff[1]*x + coeff[0]\n",
    "    plt.plot(x,y_Pred,color='g')\n",
    "    \n",
    "    plt.xlabel('x')\n",
    "    plt.ylabel('y')\n",
    "    plt.show()\n",
    "    exVar=explained_variance_score(y,y_Pred)\n",
    "    print(\"The model is able to explain \",exVar*100,\"% of variance in y due to x\")\n",
    "    print(\"The root mean squared error: \",mean_squared_error(y,y_Pred)**.5)\n",
    "    print(\"R^2 metric: \",r2_score(y,y_Pred))\n",
    "    "
   ]
  },
  {
   "cell_type": "code",
   "execution_count": 53,
   "metadata": {},
   "outputs": [
    {
     "name": "stdout",
     "output_type": "stream",
     "text": [
      "Mean of X value:  3633.99156118 \t Mean of Y values:  1282.87341772\n",
      "Coefficient b0:  325.573421049 \t Coefficient b1:  0.263429339489\n"
     ]
    },
    {
     "data": {
      "image/png": "[encoded data removed]",
      "text/plain": [
       "<matplotlib.figure.Figure at 0x19d76a5aa20>"
      ]
     },
     "metadata": {},
     "output_type": "display_data"
    },
    {
     "name": "stdout",
     "output_type": "stream",
     "text": [
      "The model is able to explain  63.9311719957 % of variance in y due to x\n",
      "The root mean squared error:  72.1206213784\n",
      "R^2 metric:  0.639311719957\n"
     ]
    }
   ],
   "source": [
    "coeff=calculateCoeff(x,y)\n",
    "plotRegression(x,y,coeff)"
   ]
  },
  {
   "cell_type": "code",
   "execution_count": 29,
   "metadata": {
    "collapsed": true
   },
   "outputs": [],
   "source": []
  },
  {
   "cell_type": "markdown",
   "metadata": {},
   "source": [
    "# Multiple Linear Regression"
   ]
  },
  {
   "cell_type": "markdown",
   "metadata": {},
   "source": [
    "# Model Explanation\n",
    "\n",
    "Y= b0 +b1x1 + b2x2 + .... + bnxn <br>\n",
    "bi -> ith parameters <br>\n",
    "xi -> ith feature <br>\n",
    "\n",
    "Thus, Y= bTx <br>\n",
    "bT ->transpose of matrix conatining learned parameters <br>\n",
    "\n",
    "Y= hbx (Predicted y) where hbx = b0(1) + b1x1+ .... + bnxn <br>\n",
    "y= true value <br>\n",
    "Error = (1/2n) * ∑(Y - y)^2\n"
   ]
  },
  {
   "cell_type": "markdown",
   "metadata": {},
   "source": [
    "# Gradient Descent \n",
    "\n",
    "* Initialize all parameters to random values. \n",
    "* Update each parameter (bj) using bj := bj - alpha( d (Error)/dbj)\n",
    "* Repeat until the values of parameters (bj) cease to change by large steps. <br> <br>\n",
    "alpha : learning parameter which can be adjusted to increase or decrease the steps of shift. If it is too large, the most optimal value (minima) of the parameter can be missed. If it is too small the learning time can increase.  <br>\n",
    "Step two of GD can be done using batch or stochastic method. For reference to how one is better than the other  [refer this](https://stats.stackexchange.com/questions/49528/batch-gradient-descent-versus-stochastic-gradient-descent)"
   ]
  },
  {
   "cell_type": "code",
   "execution_count": 289,
   "metadata": {},
   "outputs": [],
   "source": [
    "data=pd.read_csv('fram1.csv')"
   ]
  },
  {
   "cell_type": "markdown",
   "metadata": {},
   "source": [
    "## Data set: Systolic blood pressure data\n",
    "* SYSBP - > blood pressure\n",
    "* Age \n",
    "* BMI "
   ]
  },
  {
   "cell_type": "code",
   "execution_count": 290,
   "metadata": {
    "scrolled": true
   },
   "outputs": [
    {
     "data": {
      "text/html": [
       "<div>\n",
       "<style>\n",
       "    .dataframe thead tr:only-child th {\n",
       "        text-align: right;\n",
       "    }\n",
       "\n",
       "    .dataframe thead th {\n",
       "        text-align: left;\n",
       "    }\n",
       "\n",
       "    .dataframe tbody tr th {\n",
       "        vertical-align: top;\n",
       "    }\n",
       "</style>\n",
       "<table border=\"1\" class=\"dataframe\">\n",
       "  <thead>\n",
       "    <tr style=\"text-align: right;\">\n",
       "      <th></th>\n",
       "      <th>SEX</th>\n",
       "      <th>RANDID</th>\n",
       "      <th>TOTCHOL</th>\n",
       "      <th>AGE</th>\n",
       "      <th>SYSBP</th>\n",
       "      <th>DIABP</th>\n",
       "      <th>CURSMOKE</th>\n",
       "      <th>CIGPDAY</th>\n",
       "      <th>BMI</th>\n",
       "      <th>DIABETES</th>\n",
       "      <th>...</th>\n",
       "      <th>CVD</th>\n",
       "      <th>HYPERTEN</th>\n",
       "      <th>TIMEAP</th>\n",
       "      <th>TIMEMI</th>\n",
       "      <th>TIMEMIFC</th>\n",
       "      <th>TIMECHD</th>\n",
       "      <th>TIMESTRK</th>\n",
       "      <th>TIMECVD</th>\n",
       "      <th>TIMEDTH</th>\n",
       "      <th>TIMEHYP</th>\n",
       "    </tr>\n",
       "  </thead>\n",
       "  <tbody>\n",
       "    <tr>\n",
       "      <th>0</th>\n",
       "      <td>1</td>\n",
       "      <td>2448</td>\n",
       "      <td>195.0</td>\n",
       "      <td>39</td>\n",
       "      <td>106.0</td>\n",
       "      <td>70.0</td>\n",
       "      <td>0</td>\n",
       "      <td>0.0</td>\n",
       "      <td>26.97</td>\n",
       "      <td>0</td>\n",
       "      <td>...</td>\n",
       "      <td>1</td>\n",
       "      <td>0</td>\n",
       "      <td>8766</td>\n",
       "      <td>6438</td>\n",
       "      <td>6438</td>\n",
       "      <td>6438</td>\n",
       "      <td>8766</td>\n",
       "      <td>6438</td>\n",
       "      <td>8766</td>\n",
       "      <td>8766</td>\n",
       "    </tr>\n",
       "    <tr>\n",
       "      <th>1</th>\n",
       "      <td>2</td>\n",
       "      <td>6238</td>\n",
       "      <td>250.0</td>\n",
       "      <td>46</td>\n",
       "      <td>121.0</td>\n",
       "      <td>81.0</td>\n",
       "      <td>0</td>\n",
       "      <td>0.0</td>\n",
       "      <td>28.73</td>\n",
       "      <td>0</td>\n",
       "      <td>...</td>\n",
       "      <td>0</td>\n",
       "      <td>0</td>\n",
       "      <td>8766</td>\n",
       "      <td>8766</td>\n",
       "      <td>8766</td>\n",
       "      <td>8766</td>\n",
       "      <td>8766</td>\n",
       "      <td>8766</td>\n",
       "      <td>8766</td>\n",
       "      <td>8766</td>\n",
       "    </tr>\n",
       "    <tr>\n",
       "      <th>2</th>\n",
       "      <td>1</td>\n",
       "      <td>9428</td>\n",
       "      <td>245.0</td>\n",
       "      <td>48</td>\n",
       "      <td>127.5</td>\n",
       "      <td>80.0</td>\n",
       "      <td>1</td>\n",
       "      <td>20.0</td>\n",
       "      <td>25.34</td>\n",
       "      <td>0</td>\n",
       "      <td>...</td>\n",
       "      <td>0</td>\n",
       "      <td>0</td>\n",
       "      <td>8766</td>\n",
       "      <td>8766</td>\n",
       "      <td>8766</td>\n",
       "      <td>8766</td>\n",
       "      <td>8766</td>\n",
       "      <td>8766</td>\n",
       "      <td>8766</td>\n",
       "      <td>8766</td>\n",
       "    </tr>\n",
       "    <tr>\n",
       "      <th>3</th>\n",
       "      <td>2</td>\n",
       "      <td>10552</td>\n",
       "      <td>225.0</td>\n",
       "      <td>61</td>\n",
       "      <td>150.0</td>\n",
       "      <td>95.0</td>\n",
       "      <td>1</td>\n",
       "      <td>30.0</td>\n",
       "      <td>28.58</td>\n",
       "      <td>0</td>\n",
       "      <td>...</td>\n",
       "      <td>1</td>\n",
       "      <td>1</td>\n",
       "      <td>2956</td>\n",
       "      <td>2956</td>\n",
       "      <td>2956</td>\n",
       "      <td>2956</td>\n",
       "      <td>2089</td>\n",
       "      <td>2089</td>\n",
       "      <td>2956</td>\n",
       "      <td>0</td>\n",
       "    </tr>\n",
       "    <tr>\n",
       "      <th>4</th>\n",
       "      <td>2</td>\n",
       "      <td>11252</td>\n",
       "      <td>285.0</td>\n",
       "      <td>46</td>\n",
       "      <td>130.0</td>\n",
       "      <td>84.0</td>\n",
       "      <td>1</td>\n",
       "      <td>23.0</td>\n",
       "      <td>23.10</td>\n",
       "      <td>0</td>\n",
       "      <td>...</td>\n",
       "      <td>0</td>\n",
       "      <td>1</td>\n",
       "      <td>8766</td>\n",
       "      <td>8766</td>\n",
       "      <td>8766</td>\n",
       "      <td>8766</td>\n",
       "      <td>8766</td>\n",
       "      <td>8766</td>\n",
       "      <td>8766</td>\n",
       "      <td>4285</td>\n",
       "    </tr>\n",
       "  </tbody>\n",
       "</table>\n",
       "<p>5 rows × 38 columns</p>\n",
       "</div>"
      ],
      "text/plain": [
       "   SEX  RANDID  TOTCHOL  AGE  SYSBP  DIABP  CURSMOKE  CIGPDAY    BMI  \\\n",
       "0    1    2448    195.0   39  106.0   70.0         0      0.0  26.97   \n",
       "1    2    6238    250.0   46  121.0   81.0         0      0.0  28.73   \n",
       "2    1    9428    245.0   48  127.5   80.0         1     20.0  25.34   \n",
       "3    2   10552    225.0   61  150.0   95.0         1     30.0  28.58   \n",
       "4    2   11252    285.0   46  130.0   84.0         1     23.0  23.10   \n",
       "\n",
       "   DIABETES   ...     CVD  HYPERTEN  TIMEAP  TIMEMI  TIMEMIFC  TIMECHD  \\\n",
       "0         0   ...       1         0    8766    6438      6438     6438   \n",
       "1         0   ...       0         0    8766    8766      8766     8766   \n",
       "2         0   ...       0         0    8766    8766      8766     8766   \n",
       "3         0   ...       1         1    2956    2956      2956     2956   \n",
       "4         0   ...       0         1    8766    8766      8766     8766   \n",
       "\n",
       "   TIMESTRK  TIMECVD  TIMEDTH  TIMEHYP  \n",
       "0      8766     6438     8766     8766  \n",
       "1      8766     8766     8766     8766  \n",
       "2      8766     8766     8766     8766  \n",
       "3      2089     2089     2956        0  \n",
       "4      8766     8766     8766     4285  \n",
       "\n",
       "[5 rows x 38 columns]"
      ]
     },
     "execution_count": 290,
     "metadata": {},
     "output_type": "execute_result"
    }
   ],
   "source": [
    "data.head()"
   ]
  },
  {
   "cell_type": "code",
   "execution_count": 291,
   "metadata": {},
   "outputs": [
    {
     "data": {
      "text/plain": [
       "SEX         False\n",
       "RANDID      False\n",
       "TOTCHOL      True\n",
       "AGE         False\n",
       "SYSBP       False\n",
       "DIABP       False\n",
       "CURSMOKE    False\n",
       "CIGPDAY      True\n",
       "BMI          True\n",
       "DIABETES    False\n",
       "BPMEDS       True\n",
       "HEARTRTE     True\n",
       "GLUCOSE      True\n",
       "PREVCHD     False\n",
       "PREVAP      False\n",
       "PREVMI      False\n",
       "PREVSTRK    False\n",
       "PREVHYP     False\n",
       "TIME        False\n",
       "PERIOD      False\n",
       "HDLC         True\n",
       "LDLC         True\n",
       "DEATH       False\n",
       "ANGINA      False\n",
       "HOSPMI      False\n",
       "MI_FCHD     False\n",
       "ANYCHD      False\n",
       "STROKE      False\n",
       "CVD         False\n",
       "HYPERTEN    False\n",
       "TIMEAP      False\n",
       "TIMEMI      False\n",
       "TIMEMIFC    False\n",
       "TIMECHD     False\n",
       "TIMESTRK    False\n",
       "TIMECVD     False\n",
       "TIMEDTH     False\n",
       "TIMEHYP     False\n",
       "dtype: bool"
      ]
     },
     "execution_count": 291,
     "metadata": {},
     "output_type": "execute_result"
    }
   ],
   "source": [
    "np.isnan(data).any()"
   ]
  },
  {
   "cell_type": "code",
   "execution_count": 292,
   "metadata": {},
   "outputs": [],
   "source": [
    "data=data[['SYSBP','AGE','BMI']]"
   ]
  },
  {
   "cell_type": "code",
   "execution_count": 293,
   "metadata": {},
   "outputs": [
    {
     "data": {
      "text/html": [
       "<div>\n",
       "<style>\n",
       "    .dataframe thead tr:only-child th {\n",
       "        text-align: right;\n",
       "    }\n",
       "\n",
       "    .dataframe thead th {\n",
       "        text-align: left;\n",
       "    }\n",
       "\n",
       "    .dataframe tbody tr th {\n",
       "        vertical-align: top;\n",
       "    }\n",
       "</style>\n",
       "<table border=\"1\" class=\"dataframe\">\n",
       "  <thead>\n",
       "    <tr style=\"text-align: right;\">\n",
       "      <th></th>\n",
       "      <th>SYSBP</th>\n",
       "      <th>AGE</th>\n",
       "      <th>BMI</th>\n",
       "    </tr>\n",
       "  </thead>\n",
       "  <tbody>\n",
       "    <tr>\n",
       "      <th>0</th>\n",
       "      <td>106.0</td>\n",
       "      <td>39</td>\n",
       "      <td>26.97</td>\n",
       "    </tr>\n",
       "    <tr>\n",
       "      <th>1</th>\n",
       "      <td>121.0</td>\n",
       "      <td>46</td>\n",
       "      <td>28.73</td>\n",
       "    </tr>\n",
       "    <tr>\n",
       "      <th>2</th>\n",
       "      <td>127.5</td>\n",
       "      <td>48</td>\n",
       "      <td>25.34</td>\n",
       "    </tr>\n",
       "    <tr>\n",
       "      <th>3</th>\n",
       "      <td>150.0</td>\n",
       "      <td>61</td>\n",
       "      <td>28.58</td>\n",
       "    </tr>\n",
       "    <tr>\n",
       "      <th>4</th>\n",
       "      <td>130.0</td>\n",
       "      <td>46</td>\n",
       "      <td>23.10</td>\n",
       "    </tr>\n",
       "  </tbody>\n",
       "</table>\n",
       "</div>"
      ],
      "text/plain": [
       "   SYSBP  AGE    BMI\n",
       "0  106.0   39  26.97\n",
       "1  121.0   46  28.73\n",
       "2  127.5   48  25.34\n",
       "3  150.0   61  28.58\n",
       "4  130.0   46  23.10"
      ]
     },
     "execution_count": 293,
     "metadata": {},
     "output_type": "execute_result"
    }
   ],
   "source": [
    "data.head()"
   ]
  },
  {
   "cell_type": "code",
   "execution_count": 294,
   "metadata": {},
   "outputs": [
    {
     "data": {
      "text/plain": [
       "(4415, 3)"
      ]
     },
     "execution_count": 294,
     "metadata": {},
     "output_type": "execute_result"
    }
   ],
   "source": [
    "data=data.dropna()\n",
    "data.shape"
   ]
  },
  {
   "cell_type": "code",
   "execution_count": 295,
   "metadata": {},
   "outputs": [],
   "source": [
    "bmi=data['BMI'].values\n",
    "age=data['AGE'].values\n",
    "ones=np.ones(bmi.shape[0])\n",
    "x=np.array([ones,age,bmi]).T"
   ]
  },
  {
   "cell_type": "code",
   "execution_count": 296,
   "metadata": {},
   "outputs": [
    {
     "data": {
      "text/plain": [
       "array([[  1.  ,  39.  ,  26.97],\n",
       "       [  1.  ,  46.  ,  28.73],\n",
       "       [  1.  ,  48.  ,  25.34],\n",
       "       ..., \n",
       "       [  1.  ,  52.  ,  21.47],\n",
       "       [  1.  ,  40.  ,  25.6 ],\n",
       "       [  1.  ,  39.  ,  20.91]])"
      ]
     },
     "execution_count": 296,
     "metadata": {},
     "output_type": "execute_result"
    }
   ],
   "source": [
    "x"
   ]
  },
  {
   "cell_type": "code",
   "execution_count": 297,
   "metadata": {},
   "outputs": [
    {
     "data": {
      "text/plain": [
       "array([], shape=(0, 2), dtype=int64)"
      ]
     },
     "execution_count": 297,
     "metadata": {},
     "output_type": "execute_result"
    }
   ],
   "source": [
    "lst=np.argwhere(np.isnan(x))\n",
    "lst"
   ]
  },
  {
   "cell_type": "code",
   "execution_count": 298,
   "metadata": {},
   "outputs": [
    {
     "data": {
      "text/plain": [
       "(4415,)"
      ]
     },
     "execution_count": 298,
     "metadata": {},
     "output_type": "execute_result"
    }
   ],
   "source": [
    "for i in lst:\n",
    "    np.delete(y,[i[0],i[1]])\n",
    "    \n",
    "y.shape"
   ]
  },
  {
   "cell_type": "code",
   "execution_count": 299,
   "metadata": {},
   "outputs": [],
   "source": [
    "y=data['SYSBP'].values"
   ]
  },
  {
   "cell_type": "code",
   "execution_count": 300,
   "metadata": {},
   "outputs": [
    {
     "data": {
      "text/plain": [
       "(3,)"
      ]
     },
     "execution_count": 300,
     "metadata": {},
     "output_type": "execute_result"
    }
   ],
   "source": [
    "B=np.array([0]*x.shape[1])\n",
    "B.shape"
   ]
  },
  {
   "cell_type": "markdown",
   "metadata": {},
   "source": [
    "* To remove nan values from a numpy array : x = x[~ numpy.isnan(x)]"
   ]
  },
  {
   "cell_type": "code",
   "execution_count": 301,
   "metadata": {
    "collapsed": true
   },
   "outputs": [],
   "source": [
    "def removeisnan(arr):\n",
    "    arr=arr[~np.isnan(arr)]\n",
    "    return arr"
   ]
  },
  {
   "cell_type": "code",
   "execution_count": 302,
   "metadata": {},
   "outputs": [],
   "source": [
    "#cost function\n",
    "def costFunction(x,y,B):\n",
    "    numerator=((x.dot(B) -y) ** 2)\n",
    "    numerator=np.sum(numerator[~np.isnan(numerator)])\n",
    "    \n",
    "    J= (numerator) / (2 * x.shape[0])\n",
    "    return J"
   ]
  },
  {
   "cell_type": "code",
   "execution_count": 303,
   "metadata": {},
   "outputs": [
    {
     "name": "stdout",
     "output_type": "stream",
     "text": [
      "initial Error value:  9080.23502265\n"
     ]
    }
   ],
   "source": [
    "print(\"initial Error value: \",costFunction(x,y,B))"
   ]
  },
  {
   "cell_type": "code",
   "execution_count": 312,
   "metadata": {
    "collapsed": true
   },
   "outputs": [],
   "source": [
    "def gradientDescent(x,y,B,alpha):\n",
    "    cost_history=[0]*1000000\n",
    "    \n",
    "    for i in range(1000000):\n",
    "        h=x.dot(B)\n",
    "        loss=h-y\n",
    "        gradient=x.T.dot(loss)/x.shape[0]\n",
    "        B=B-alpha*gradient\n",
    "        cost=costFunction(x,y,B)\n",
    "        cost_history[i]=cost\n",
    "    return B,cost_history"
   ]
  },
  {
   "cell_type": "code",
   "execution_count": 313,
   "metadata": {},
   "outputs": [
    {
     "name": "stdout",
     "output_type": "stream",
     "text": [
      "[ 36.94426524   1.01826051   1.73963947]\n"
     ]
    }
   ],
   "source": [
    "newB,cost_history=gradientDescent(x,y,B,.0001)\n",
    "print(newB)"
   ]
  },
  {
   "cell_type": "code",
   "execution_count": 314,
   "metadata": {},
   "outputs": [
    {
     "name": "stdout",
     "output_type": "stream",
     "text": [
      "192.073220219\n"
     ]
    }
   ],
   "source": [
    "y_Pred=x.dot(newB)\n",
    "print(cost_history[-1])"
   ]
  },
  {
   "cell_type": "code",
   "execution_count": 315,
   "metadata": {},
   "outputs": [
    {
     "data": {
      "text/plain": [
       "array([ 123.57450174,  133.76409079,  129.903234  ,  148.77705253,\n",
       "        123.96992056])"
      ]
     },
     "execution_count": 315,
     "metadata": {},
     "output_type": "execute_result"
    }
   ],
   "source": [
    "y_Pred[:5]"
   ]
  },
  {
   "cell_type": "code",
   "execution_count": 316,
   "metadata": {},
   "outputs": [
    {
     "name": "stdout",
     "output_type": "stream",
     "text": [
      "R2 score:  0.231501337689\n"
     ]
    }
   ],
   "source": [
    "print(\"R2 score: \",r2_score(y,y_Pred))"
   ]
  },
  {
   "cell_type": "code",
   "execution_count": null,
   "metadata": {
    "collapsed": true
   },
   "outputs": [],
   "source": []
  }
 ],
 "metadata": {
  "kernelspec": {
   "display_name": "Python [conda root]",
   "language": "python",
   "name": "conda-root-py"
  },
  "language_info": {
   "codemirror_mode": {
    "name": "ipython",
    "version": 3
   },
   "file_extension": ".py",
   "mimetype": "text/x-python",
   "name": "python",
   "nbconvert_exporter": "python",
   "pygments_lexer": "ipython3",
   "version": "3.5.2"
  }
 },
 "nbformat": 4,
 "nbformat_minor": 2
}
