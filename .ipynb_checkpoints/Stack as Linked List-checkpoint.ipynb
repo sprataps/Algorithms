{
 "cells": [
  {
   "cell_type": "code",
   "execution_count": 5,
   "metadata": {},
   "outputs": [],
   "source": [
    "#Implementing a stack using a linked list"
   ]
  },
  {
   "cell_type": "code",
   "execution_count": 6,
   "metadata": {
    "collapsed": true
   },
   "outputs": [],
   "source": [
    "class Node:\n",
    "    def __init__(self,value=None):\n",
    "        self.value=value\n",
    "        self.next=None"
   ]
  },
  {
   "cell_type": "code",
   "execution_count": 7,
   "metadata": {
    "collapsed": true
   },
   "outputs": [],
   "source": [
    "class LinkedList:\n",
    "    def __init__(self):\n",
    "        self.head=Node()\n",
    "    \n",
    "    def insertFirst(self,val):\n",
    "        temp=Node(val)\n",
    "        if not self.head:\n",
    "            self.head=temp\n",
    "            return\n",
    "        else:\n",
    "            temp1=self.head\n",
    "            self.head=temp\n",
    "            self.head.next=temp1\n",
    "        return\n",
    "\n",
    "    def DeleteFirst(self):\n",
    "        if not self.head:\n",
    "            return None\n",
    "        temp=self.head\n",
    "        self.head=self.head.next\n",
    "        return temp\n",
    "\n",
    "\n",
    "            "
   ]
  },
  {
   "cell_type": "code",
   "execution_count": null,
   "metadata": {
    "collapsed": true
   },
   "outputs": [],
   "source": []
  }
 ],
 "metadata": {
  "kernelspec": {
   "display_name": "Python [conda root]",
   "language": "python",
   "name": "conda-root-py"
  },
  "language_info": {
   "codemirror_mode": {
    "name": "ipython",
    "version": 3
   },
   "file_extension": ".py",
   "mimetype": "text/x-python",
   "name": "python",
   "nbconvert_exporter": "python",
   "pygments_lexer": "ipython3",
   "version": "3.5.2"
  }
 },
 "nbformat": 4,
 "nbformat_minor": 2
}
